{
 "cells": [
  {
   "cell_type": "code",
   "execution_count": null,
   "metadata": {},
   "outputs": [],
   "source": [
    "import os\n",
    "import numpy as np\n",
    "import matplotlib.pyplot as plt\n",
    "from matplotlib.lines import Line2D\n",
    "from read_calibration_file import *"
   ]
  },
  {
   "cell_type": "code",
   "execution_count": null,
   "metadata": {},
   "outputs": [],
   "source": [
    "date = '2023_07_04'"
   ]
  },
  {
   "cell_type": "code",
   "execution_count": null,
   "metadata": {},
   "outputs": [],
   "source": [
    "path = os.path.expanduser('~') + '/Master_thesis/ICRA_2024_Effie_Daum/Extrinsic_calibration/' + date + '/'\n",
    "file_path = path + 'calibration_raw.csv'\n",
    "dist_inter_prism_gps_file = path + \"dist_inter_prism_gps.csv\"\n",
    "sensors_positions_file_theodo_frame = path + \"sensor_position_theodo_frame.csv\"\n",
    "sensors_positions_file_lidar_frame = path + \"sensor_position_lidar_frame.csv\""
   ]
  },
  {
   "cell_type": "code",
   "execution_count": null,
   "metadata": {},
   "outputs": [],
   "source": [
    "# read calibration : distance inter-prisme et inter-GPS\n",
    "read_dist_inter_prism_gps(file_path, dist_inter_prism_gps_file, \"Robosense_32\")\n",
    "\n",
    "\n",
    "# read sensor positions : points 3 prismes, GPS, LiDAR\n",
    "read_sensor_positions(file_path, sensors_positions_file_theodo_frame, \"Robosense_32\")"
   ]
  },
  {
   "cell_type": "code",
   "execution_count": null,
   "metadata": {},
   "outputs": [],
   "source": [
    "sensors = np.array(read_file(sensors_positions_file_theodo_frame))\n",
    "print(sensors)\n",
    "T_matrix_lidar = sensors_positions_lidar_frame(sensors, sensors_positions_file_lidar_frame)"
   ]
  },
  {
   "cell_type": "code",
   "execution_count": null,
   "metadata": {},
   "outputs": [],
   "source": [
    "P1,P2,P3,G1,G2,G3,O, Ox, Oy, Oz = sensors[:10]\n",
    "sensors_lidar = np.array(read_file(sensors_positions_file_lidar_frame))\n",
    "P1_lidar, P2_lidar, P3_lidar, G1_lidar, G2_lidar, G3_lidar, O_lidar = sensors_lidar[:7]"
   ]
  },
  {
   "cell_type": "code",
   "execution_count": null,
   "metadata": {},
   "outputs": [],
   "source": [
    "%matplotlib widget\n",
    "# %matplotlib inline\n",
    "\n",
    "fig = plt.figure()\n",
    "ax = plt.axes(projection=\"3d\")\n",
    "\n",
    "# ax.scatter3D(P1_lidar[0], P1_lidar[1], P1_lidar[2], color = \"#89ABE3\")\n",
    "# ax.scatter3D(P2_lidar[0], P2_lidar[1], P2_lidar[2], color = \"#EA738D\")\n",
    "# ax.scatter3D(P3_lidar[0], P3_lidar[1], P3_lidar[2], color = \"#E3B448\")\n",
    "\n",
    "# ax.scatter3D(P1[0], P1[1], P1[2], color = \"#89ABE3\")\n",
    "# ax.scatter3D(P2[0], P2[1], P2[2], color = \"#EA738D\")\n",
    "# ax.scatter3D(P3[0], P3[1], P3[2], color = \"#E3B448\")\n",
    "\n",
    "ax.scatter3D(G1_lidar[0], G1_lidar[1], G1_lidar[2], marker = 'x', color = \"indigo\")\n",
    "ax.scatter3D(G2_lidar[0], G2_lidar[1], G2_lidar[2], marker = 'x', color = \"indigo\")\n",
    "ax.scatter3D(G3_lidar[0], G3_lidar[1], G3_lidar[2], marker = 'x', color = \"indigo\")\n",
    "ax.scatter3D(O_lidar[0], O_lidar[1], O_lidar[2], marker ='x', color = \"indigo\")\n",
    "\n",
    "ax.scatter3D(G1[0], G1[1], G1[2], marker = 'x',  color = \"skyblue\")\n",
    "ax.scatter3D(G2[0], G2[1], G2[2], marker = 'x', color = \"skyblue\")\n",
    "ax.scatter3D(G3[0], G3[1], G3[2], marker = 'x', color = \"skyblue\")\n",
    "ax.scatter3D(O[0], O[1], O[2], marker ='x', color = \"skyblue\")\n",
    "# ax.scatter3D(Ox[0], Ox[1], Ox[2], color = \"red\")\n",
    "# ax.scatter3D(Oy[0], Oy[1], Oy[2], color = \"blue\")\n",
    "# ax.scatter3D(Oz[0], Oz[1], Oz[2], color = \"green\")\n",
    "\n",
    "\n",
    "# ax.text(P1_lidar[0], P1_lidar[1], P1_lidar[2], 'Prisme 1')\n",
    "# ax.text(P2_lidar[0], P2_lidar[1], P2_lidar[2], 'Prisme 2')\n",
    "# ax.text(P3_lidar[0], P3_lidar[1], P3_lidar[2], 'Prisme 3')\n",
    "# ax.text(P1[0], P1[1], P1[2], 'Prisme 1')\n",
    "# ax.text(P2[0], P2[1], P2[2], 'Prisme 2')\n",
    "# ax.text(P3[0], P3[1], P3[2], 'Prisme 3')\n",
    "\n",
    "ax.text(G1_lidar[0]-0.2, G1_lidar[1]-0.2, G1_lidar[2], 'GPS1')\n",
    "ax.text(G2_lidar[0]-0.2, G2_lidar[1]-0.2, G2_lidar[2], 'GPS2')\n",
    "ax.text(G3_lidar[0]-0.2, G3_lidar[1]-0.2, G3_lidar[2], 'GPS3')\n",
    "ax.text(G1[0]-0.2, G1[1]-0.2, G1[2], 'GPS 1')\n",
    "ax.text(G2[0]-0.2, G2[1]-0.2, G2[2], 'GPS 2')\n",
    "ax.text(G3[0]-0.2, G3[1]-0.2, G3[2], 'GPS 3')\n",
    "\n",
    "ax.text(O[0]-0.2, O[1]-0.2, O[2], 'Centre LiDAR')\n",
    "ax.text(O_lidar[0]-0.2, O_lidar[1]-0.2, O_lidar[2], 'Centre LiDAR')\n",
    "\n",
    "# ax.text(Ox[0], Ox[1], Ox[2], 'Ox')\n",
    "# ax.text(Oy[0], Oy[1], Oy[2], 'Oy')\n",
    "# ax.text(Oz[0], Oz[1], Oz[2], 'Oz')\n",
    "\n",
    "\n",
    "\n",
    "legend_elements = [\n",
    "    Line2D([0], [0], marker='x', color='indigo', linestyle='None', markersize=7, label='Point in lidar frame'),\n",
    "    Line2D([0], [0], marker='x', color='skyblue', linestyle='None', markersize=7, label='Point in theodo frame'),\n",
    "]\n",
    "\n",
    "ax.legend(handles=legend_elements, loc='lower right')\n",
    "\n",
    "ax.set_xlabel(\"X\")\n",
    "ax.set_ylabel(\"Y\")\n",
    "ax.set_zlabel(\"Z\")\n",
    "\n",
    "ax.view_init(azim=-20, elev=45)\n",
    "\n",
    "save_path = os.path.expanduser('~') + '/ros2_ws/src/ICRA_2024/Outputs/extrinsic_calib_2023_07_04.png'\n",
    "plt.savefig(save_path)\n",
    "\n",
    "plt.show()"
   ]
  },
  {
   "cell_type": "code",
   "execution_count": null,
   "metadata": {},
   "outputs": [],
   "source": []
  }
 ],
 "metadata": {
  "kernelspec": {
   "display_name": "Python 3",
   "language": "python",
   "name": "python3"
  },
  "language_info": {
   "codemirror_mode": {
    "name": "ipython",
    "version": 3
   },
   "file_extension": ".py",
   "mimetype": "text/x-python",
   "name": "python",
   "nbconvert_exporter": "python",
   "pygments_lexer": "ipython3",
   "version": "3.10.12"
  },
  "orig_nbformat": 4
 },
 "nbformat": 4,
 "nbformat_minor": 2
}
