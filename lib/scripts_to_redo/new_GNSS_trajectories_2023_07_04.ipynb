{
 "cells": [
  {
   "cell_type": "code",
   "execution_count": 6,
   "metadata": {},
   "outputs": [],
   "source": [
    "import numpy as np\n",
    "import csv\n",
    "import os\n",
    "from datetime import datetime, timezone\n",
    "import pandas as pd\n",
    "import matplotlib.pyplot as plt\n",
    "from matplotlib.patches import Ellipse\n",
    "from mpl_toolkits.mplot3d import Axes3D\n",
    "from mpl_toolkits.axes_grid1 import make_axes_locatable"
   ]
  },
  {
   "cell_type": "code",
   "execution_count": 7,
   "metadata": {},
   "outputs": [],
   "source": [
    "date = '2023_07_04'\n",
    "rover_type = 'Trimble_R10/'\n",
    "path = os.path.expanduser('~') + '/ros2_ws/src/ICRA_2024/GNSS_Data/' + rover_type + date + '/'"
   ]
  },
  {
   "cell_type": "code",
   "execution_count": 8,
   "metadata": {},
   "outputs": [
    {
     "name": "stdout",
     "output_type": "stream",
     "text": [
      "Opérations terminées. Le fichier mis à jour est enregistré sous /home/effie/ros2_ws/src/ICRA_2024/GNSS_Data/Trimble_R10/2023_07_04/rover_1.csv\n",
      "Opérations terminées. Le fichier mis à jour est enregistré sous /home/effie/ros2_ws/src/ICRA_2024/GNSS_Data/Trimble_R10/2023_07_04/rover_2.csv\n",
      "Opérations terminées. Le fichier mis à jour est enregistré sous /home/effie/ros2_ws/src/ICRA_2024/GNSS_Data/Trimble_R10/2023_07_04/rover_3.csv\n"
     ]
    }
   ],
   "source": [
    "# Inverse North for East and compute timestamp\n",
    "\n",
    "file_pairs = [\n",
    "    (path + 'rover_1_raw.csv', path + 'rover_1.csv'),\n",
    "    (path + 'rover_2_raw.csv', path + 'rover_2.csv'),\n",
    "    (path + 'rover_3_raw.csv', path + 'rover_3.csv')\n",
    "]\n",
    "\n",
    "# Boucle for pour parcourir les fichiers\n",
    "for input_file, output_file in file_pairs:\n",
    "\n",
    "    with open(input_file, 'r') as file:\n",
    "        reader = csv.reader(file)\n",
    "        lines = list(reader)\n",
    "\n",
    "    header = lines.pop(0)\n",
    "\n",
    "\n",
    "    for line in lines:\n",
    "        temps_str = line[7]\n",
    "        date_str = line[8]\n",
    "        \n",
    "        format_str = \"%H:%M:%S,%Y-%m-%d\"\n",
    "        temps_date_str = f\"{temps_str},{date_str}\"\n",
    "        \n",
    "        temps_objet = datetime.strptime(temps_date_str, format_str)\n",
    "        \n",
    "        temps_objet_utc = temps_objet.replace(tzinfo=timezone.utc)\n",
    "        \n",
    "        timestamp_unix = int(temps_objet_utc.timestamp())\n",
    "        \n",
    "        line[7] = timestamp_unix\n",
    "        line[8] = date_str\n",
    "        del line[9] # empty column\n",
    "\n",
    "    with open(output_file, 'w', newline='') as file:\n",
    "        writer = csv.writer(file)\n",
    "        writer.writerow(header)\n",
    "        writer.writerows(lines)\n",
    "\n",
    "    print(\"Opérations terminées. Le fichier mis à jour est enregistré sous\", output_file)"
   ]
  },
  {
   "cell_type": "code",
   "execution_count": 20,
   "metadata": {},
   "outputs": [
    {
     "name": "stdout",
     "output_type": "stream",
     "text": [
      "1\n"
     ]
    }
   ],
   "source": [
    "rovers = {\n",
    "    'rover_1': {'Id': [], 'East': [], 'North': [], 'Up': [], 'Sigma_H': [],'Sigma_V': [], 'PDOP': [], 'nSats': [], 'Timestamp': []},\n",
    "    'rover_2': {'Id': [], 'East': [], 'North': [], 'Up': [], 'Sigma_H': [],'Sigma_V': [], 'PDOP': [], 'nSats': [], 'Timestamp': []},\n",
    "    'rover_3': {'Id': [], 'East': [], 'North': [], 'Up': [], 'Sigma_H': [],'Sigma_V': [], 'PDOP': [], 'nSats': [], 'Timestamp': []}\n",
    "\n",
    "}\n",
    "current_rover = None\n",
    "count = 0\n",
    "all_rover_data = {}\n",
    "\n",
    "for rover, data in rovers.items():\n",
    "    rover_number = rover.split(\"_\")[1]\n",
    "    filename = path + rover + '.csv'\n",
    "    with open(filename, newline='') as csvfile:\n",
    "        reader = csv.reader(csvfile, delimiter=',')\n",
    "        next(reader)\n",
    "        next(reader)\n",
    "\n",
    "        if current_rover != rover:\n",
    "            current_rover = rover\n",
    "            count = 0\n",
    "        for row in reader:\n",
    "            id_number = int(row[0].split('nor' + str(rover_number) + '-')[1])\n",
    "            Id = float(id_number)\n",
    "            East = float(row[1])\n",
    "            North = float(row[2])\n",
    "            Up = float(row[3])\n",
    "            Timestamp = float(row[7])\n",
    "            Date = str(row[8])\n",
    "            array = np.array([Id, North, East, Up, Timestamp])\n",
    "            data['Id'].append(Id)\n",
    "            data['North'].append(North)\n",
    "            data['East'].append(East)\n",
    "            data['Up'].append(Up)\n",
    "            data['Timestamp'].append(Timestamp)\n",
    "            count += 1\n",
    "\n",
    "    rover_df = pd.DataFrame(data)\n",
    "    all_rover_data[rover] = rover_df\n",
    "    # print(all_rover_data['rover_1'])\n"
   ]
  },
  {
   "cell_type": "code",
   "execution_count": null,
   "metadata": {},
   "outputs": [],
   "source": [
    "rover_name = zip('rover_1', 'rover_2', 'rover3')\n",
    "for rover in rover_name : \n",
    "    rover_df = all_rover_data[rover_name]\n",
    "    east_coordinates = np.array(rover_df['East'])\n",
    "    north_coordinates = np.array(rover_df['North'])\n",
    "    up_coordinates = np.array(rover_df['Up'])\n",
    "    horizontal_error = np.array(rover_df['Sigma_H'])\n",
    "    vertical_error = np.array(rover_df['Sigma_V'])\n",
    "    PDOP = np.array(rover_df['PDOP'])\n",
    "    satellites_number = np.array(rover_df['nSats'])\n",
    "    timestamps = np.array(rover_df['Timestamp'])"
   ]
  }
 ],
 "metadata": {
  "kernelspec": {
   "display_name": "Python 3",
   "language": "python",
   "name": "python3"
  },
  "language_info": {
   "codemirror_mode": {
    "name": "ipython",
    "version": 3
   },
   "file_extension": ".py",
   "mimetype": "text/x-python",
   "name": "python",
   "nbconvert_exporter": "python",
   "pygments_lexer": "ipython3",
   "version": "3.10.6"
  },
  "orig_nbformat": 4
 },
 "nbformat": 4,
 "nbformat_minor": 2
}
