{
 "cells": [
  {
   "attachments": {},
   "cell_type": "markdown",
   "metadata": {
    "collapsed": false
   },
   "source": [
    "# Pre-processing pipeline\n",
    "\n",
    "Notebook used to compute the pre-processing pipeline on the raw data coming from one deployment."
   ],
   "id": "4aae888c760acb03"
  },
  {
   "cell_type": "code",
   "execution_count": 15,
   "id": "83134f9a-9db2-4600-a9e2-cb67d376842c",
   "metadata": {
    "ExecuteTime": {
     "end_time": "2023-08-07T16:17:20.717919435Z",
     "start_time": "2023-08-07T16:17:20.677246703Z"
    }
   },
   "outputs": [],
   "source": [
    "import numpy as np\n",
    "import warnings\n",
    "warnings.filterwarnings('ignore')\n",
    "import sys\n",
    "sys.path.append(\"../\")\n",
    "import importlib\n",
    "import scripts.theodolite_utils as theodo_u\n",
    "import scripts.theodolite_function as theodo_f\n",
    "import scripts.prediction_utils as prediction_u\n",
    "import time\n",
    "from tqdm import tqdm\n",
    "import torch\n",
    "from stheno.torch import B\n",
    "import matplotlib.pyplot as plt"
   ]
  },
  {
   "attachments": {},
   "cell_type": "markdown",
   "metadata": {
    "collapsed": false
   },
   "source": [
    "# Selection of datasets and pre-processing pipeline parameters"
   ],
   "id": "bc1e5aa5e650997b"
  },
  {
   "cell_type": "code",
   "execution_count": 23,
   "metadata": {
    "collapsed": false,
    "ExecuteTime": {
     "end_time": "2023-08-07T16:25:19.565900675Z",
     "start_time": "2023-08-07T16:25:19.521100817Z"
    }
   },
   "outputs": [],
   "source": [
    "# Selection of files and parameters\n",
    "\n",
    "# Path of the rosbags\n",
    "file = [\n",
    "        \"/home/maxime/data/ICRA_2023/ICRA_2023/20220224/20220224_inter_prism.bag\",\n",
    "        \"/home/maxime/data/ICRA_2023/ICRA_2023/20220307/20220307_inter_prism.bag\",\n",
    "        \"/home/maxime/data/ICRA_2023/ICRA_2023/20220314/20220314_inter_prism.bag\",\n",
    "        \"/home/maxime/data/ICRA_2023/ICRA_2023/20220316/20220316_inter_prism.bag\",\n",
    "        \"/home/maxime/data/ICRA_2023/ICRA_2023/20220525/20220525_1_inter_prism.bag\",\n",
    "        \"/home/maxime/data/ICRA_2023/ICRA_2023/20220525/20220525_2_inter_prism.bag\",\n",
    "        \"/home/maxime/data/ICRA_2023/ICRA_2023/20220622/20220622_1_inter_prism.bag\",\n",
    "        \"/home/maxime/data/ICRA_2023/ICRA_2023/20220622/20220622_2_inter_prism.bag\",\n",
    "        \"/home/maxime/data/ICRA_2023/ICRA_2023/20220630/20220630_1_inter_prism.bag\",\n",
    "        \"/home/maxime/data/ICRA_2023/ICRA_2023/20220630/20220630_2_inter_prism.bag\",\n",
    "        \"/home/maxime/data/ICRA_2023/ICRA_2023/20220711/20220711_2_inter_prism.bag\",\n",
    "       ]\n",
    "\n",
    "# Path of output\n",
    "output = [\n",
    "        \"../data/20220224/\",\n",
    "        \"../data/20220307/\",\n",
    "        \"../data/20220314/\",\n",
    "        \"../data/20220316/\",\n",
    "        \"../data/20220525-1/\",\n",
    "        \"../data/20220525-2/\",\n",
    "        \"../data/20220622-1/\",\n",
    "        \"../data/20220622-2/\",\n",
    "        \"../data/20220630-1/\",\n",
    "        \"../data/20220630-2/\",\n",
    "        \"../data/20220711-2/\",\n",
    "]\n",
    "\n",
    "# Parameters to select:\n",
    "# 1. Apply filtering or not on the total stations raw data (Module 1) (0 or 1)\n",
    "# 2-3-4. Parameters tau_r(distance threshold m/s), tau_a(azimuth threshold deg/s), tau_e(elevation threshold deg/s) (Module 1)\n",
    "# 5. Parameter tau_s(split mesurements s) (Module 2)\n",
    "# 6. Parameter tau_l(interval of data keep between two trajectories s) (Module 3)\n",
    "# 7. Parameter to cut edge of sub-intervals (former parameter with low impact s)\n",
    "# parameters = [\n",
    "#     [1,2,2,2,4,4,0],\n",
    "# ]\n",
    "parameters = [\n",
    "    [1,2,1,1,3,2,0],\n",
    "]"
   ],
   "id": "50ec2d4c542f8563"
  },
  {
   "attachments": {},
   "cell_type": "markdown",
   "metadata": {
    "collapsed": false
   },
   "source": [
    "# Pre-processing pipeline"
   ],
   "id": "54414382316f6ca3"
  },
  {
   "cell_type": "code",
   "execution_count": 24,
   "id": "c53e2fb4",
   "metadata": {
    "scrolled": true,
    "tags": [],
    "ExecuteTime": {
     "end_time": "2023-08-07T16:27:05.173831573Z",
     "start_time": "2023-08-07T16:25:20.867071273Z"
    }
   },
   "outputs": [
    {
     "name": "stdout",
     "output_type": "stream",
     "text": [
      "[1, 2, 1, 1, 3, 2, 0]\n",
      "Number of data for theodolites: [4945 4681 4737]\n",
      "Bad measures: 558\n",
      "3836 3619 3690\n"
     ]
    },
    {
     "name": "stderr",
     "output_type": "stream",
     "text": [
      " 15%|█▍        | 7/47 [00:00<00:00, 56.48it/s]"
     ]
    },
    {
     "name": "stdout",
     "output_type": "stream",
     "text": [
      "Prediction\n",
      "Prediction\n",
      "Prediction\n",
      "Prediction\n",
      "Prediction\n",
      "Prediction\n",
      "Prediction\n",
      "Prediction\n",
      "Prediction\n",
      "Prediction\n",
      "Prediction\n"
     ]
    },
    {
     "name": "stderr",
     "output_type": "stream",
     "text": [
      " 43%|████▎     | 20/47 [00:00<00:00, 57.51it/s]"
     ]
    },
    {
     "name": "stdout",
     "output_type": "stream",
     "text": [
      "Prediction\n",
      "Prediction\n",
      "Prediction\n",
      "Prediction\n",
      "Prediction\n",
      "Prediction\n",
      "Prediction\n",
      "Prediction\n",
      "Prediction\n",
      "Prediction\n",
      "Prediction\n",
      "Prediction\n",
      "Prediction\n"
     ]
    },
    {
     "name": "stderr",
     "output_type": "stream",
     "text": [
      " 79%|███████▊  | 37/47 [00:00<00:00, 70.07it/s]"
     ]
    },
    {
     "name": "stdout",
     "output_type": "stream",
     "text": [
      "Prediction\n",
      "Prediction\n",
      "Prediction\n",
      "Prediction\n",
      "Prediction\n",
      "Prediction\n",
      "Prediction\n",
      "Prediction\n",
      "Prediction\n",
      "Prediction\n",
      "Prediction\n",
      "Prediction\n",
      "Prediction\n",
      "Prediction\n",
      "Prediction\n"
     ]
    },
    {
     "name": "stderr",
     "output_type": "stream",
     "text": [
      "100%|██████████| 47/47 [00:00<00:00, 52.84it/s]"
     ]
    },
    {
     "name": "stdout",
     "output_type": "stream",
     "text": [
      "Prediction\n",
      "Prediction\n",
      "Prediction\n",
      "Prediction\n",
      "1.0702829360961914\n",
      "Interpolation finished !\n"
     ]
    },
    {
     "name": "stderr",
     "output_type": "stream",
     "text": [
      "\n"
     ]
    },
    {
     "name": "stdout",
     "output_type": "stream",
     "text": [
      "Conversion done !\n",
      "Conversion done !\n",
      "Conversion done !\n",
      "Saved !\n",
      "Number of data for theodolites: [7292 6861 7123]\n",
      "Bad measures: 556\n",
      "5915 5516 5773\n"
     ]
    },
    {
     "name": "stderr",
     "output_type": "stream",
     "text": [
      "  7%|▋         | 5/69 [00:00<00:02, 30.18it/s]"
     ]
    },
    {
     "name": "stdout",
     "output_type": "stream",
     "text": [
      "Prediction\n",
      "Prediction\n",
      "Prediction\n",
      "Prediction\n",
      "Prediction\n",
      "Prediction\n",
      "Prediction\n",
      "Prediction\n",
      "Prediction\n",
      "Prediction\n",
      "Prediction\n"
     ]
    },
    {
     "name": "stderr",
     "output_type": "stream",
     "text": [
      " 45%|████▍     | 31/69 [00:00<00:00, 74.29it/s]"
     ]
    },
    {
     "name": "stdout",
     "output_type": "stream",
     "text": [
      "Prediction\n",
      "Prediction\n",
      "Prediction\n",
      "Prediction\n",
      "Prediction\n",
      "Prediction\n",
      "Prediction\n",
      "Prediction\n",
      "Prediction\n",
      "Prediction\n",
      "Prediction\n",
      "Prediction\n",
      "Prediction\n",
      "Prediction\n",
      "Prediction\n",
      "Prediction\n"
     ]
    },
    {
     "name": "stderr",
     "output_type": "stream",
     "text": [
      " 70%|██████▉   | 48/69 [00:00<00:00, 64.55it/s]"
     ]
    },
    {
     "name": "stdout",
     "output_type": "stream",
     "text": [
      "Prediction\n",
      "Prediction\n",
      "Prediction\n",
      "Prediction\n",
      "Prediction\n",
      "Prediction\n",
      "Prediction\n",
      "Prediction\n",
      "Prediction\n",
      "Prediction\n",
      "Prediction\n",
      "Prediction\n",
      "Prediction\n",
      "Prediction\n",
      "Prediction\n",
      "Prediction\n",
      "Prediction\n",
      "Prediction\n",
      "Prediction\n",
      "Prediction\n",
      "Prediction\n"
     ]
    },
    {
     "name": "stderr",
     "output_type": "stream",
     "text": [
      "100%|██████████| 69/69 [00:01<00:00, 60.03it/s]"
     ]
    },
    {
     "name": "stdout",
     "output_type": "stream",
     "text": [
      "Prediction\n",
      "Prediction\n",
      "Prediction\n",
      "1.5391180515289307\n",
      "Interpolation finished !\n",
      "Conversion done !\n",
      "Conversion done !\n",
      "Conversion done !\n",
      "Saved !\n"
     ]
    },
    {
     "name": "stderr",
     "output_type": "stream",
     "text": [
      "\n"
     ]
    },
    {
     "name": "stdout",
     "output_type": "stream",
     "text": [
      "Number of data for theodolites: [7505 7107 7482]\n",
      "Bad measures: 704\n",
      "4610 4387 4633\n"
     ]
    },
    {
     "name": "stderr",
     "output_type": "stream",
     "text": [
      " 28%|██▊       | 11/39 [00:00<00:00, 75.77it/s]"
     ]
    },
    {
     "name": "stdout",
     "output_type": "stream",
     "text": [
      "Prediction\n",
      "Prediction\n",
      "Prediction\n",
      "Prediction\n",
      "Prediction\n",
      "Prediction\n",
      "Prediction\n",
      "Prediction\n",
      "Prediction\n",
      "Prediction\n",
      "Prediction\n",
      "Prediction\n",
      "Prediction\n",
      "Prediction\n"
     ]
    },
    {
     "name": "stderr",
     "output_type": "stream",
     "text": [
      " 54%|█████▍    | 21/39 [00:00<00:00, 84.14it/s]"
     ]
    },
    {
     "name": "stdout",
     "output_type": "stream",
     "text": [
      "Prediction\n",
      "Prediction\n",
      "Prediction\n",
      "Prediction\n",
      "Prediction\n",
      "Prediction\n",
      "Prediction\n",
      "Prediction\n",
      "Prediction\n",
      "Prediction\n",
      "Prediction\n"
     ]
    },
    {
     "name": "stderr",
     "output_type": "stream",
     "text": [
      " 77%|███████▋  | 30/39 [00:00<00:00, 55.27it/s]"
     ]
    },
    {
     "name": "stdout",
     "output_type": "stream",
     "text": [
      "Prediction\n",
      "Prediction\n",
      "Prediction\n",
      "Prediction\n",
      "Prediction\n",
      "Prediction\n",
      "Prediction\n",
      "Prediction\n",
      "Prediction\n"
     ]
    },
    {
     "name": "stderr",
     "output_type": "stream",
     "text": [
      "100%|██████████| 39/39 [00:00<00:00, 40.55it/s]"
     ]
    },
    {
     "name": "stdout",
     "output_type": "stream",
     "text": [
      "Prediction\n",
      "Prediction\n",
      "Prediction\n",
      "1.161620855331421\n",
      "Interpolation finished !\n"
     ]
    },
    {
     "name": "stderr",
     "output_type": "stream",
     "text": [
      "\n"
     ]
    },
    {
     "name": "stdout",
     "output_type": "stream",
     "text": [
      "Conversion done !\n",
      "Conversion done !\n",
      "Conversion done !\n",
      "Saved !\n",
      "Number of data for theodolites: [5680 5508 5382]\n",
      "Bad measures: 459\n",
      "3714 3563 3513\n"
     ]
    },
    {
     "name": "stderr",
     "output_type": "stream",
     "text": [
      " 48%|████▊     | 20/42 [00:00<00:00, 43.73it/s]"
     ]
    },
    {
     "name": "stdout",
     "output_type": "stream",
     "text": [
      "Prediction\n",
      "Prediction\n",
      "Prediction\n",
      "Prediction\n",
      "Prediction\n",
      "Prediction\n",
      "Prediction\n",
      "Prediction\n",
      "Prediction\n",
      "Prediction\n",
      "Prediction\n",
      "Prediction\n",
      "Prediction\n",
      "Prediction\n",
      "Prediction\n",
      "Prediction\n"
     ]
    },
    {
     "name": "stderr",
     "output_type": "stream",
     "text": [
      " 71%|███████▏  | 30/42 [00:00<00:00, 57.30it/s]"
     ]
    },
    {
     "name": "stdout",
     "output_type": "stream",
     "text": [
      "Prediction\n",
      "Prediction\n",
      "Prediction\n",
      "Prediction\n",
      "Prediction\n",
      "Prediction\n",
      "Prediction\n",
      "Prediction\n",
      "Prediction\n",
      "Prediction\n",
      "Prediction\n",
      "Prediction\n",
      "Prediction\n",
      "Prediction\n"
     ]
    },
    {
     "name": "stderr",
     "output_type": "stream",
     "text": [
      "100%|██████████| 42/42 [00:00<00:00, 50.92it/s]"
     ]
    },
    {
     "name": "stdout",
     "output_type": "stream",
     "text": [
      "Prediction\n",
      "Prediction\n",
      "Prediction\n",
      "Prediction\n",
      "Prediction\n",
      "Prediction\n",
      "0.9856960773468018\n",
      "Interpolation finished !\n",
      "Conversion done !\n",
      "Conversion done !\n",
      "Conversion done !\n",
      "Saved !\n"
     ]
    },
    {
     "name": "stderr",
     "output_type": "stream",
     "text": [
      "\n"
     ]
    },
    {
     "name": "stdout",
     "output_type": "stream",
     "text": [
      "Number of data for theodolites: [4214 3791 3347]\n",
      "Bad measures: 924\n",
      "3821 3423 2961\n"
     ]
    },
    {
     "name": "stderr",
     "output_type": "stream",
     "text": [
      "  0%|          | 0/21 [00:00<?, ?it/s]"
     ]
    },
    {
     "name": "stdout",
     "output_type": "stream",
     "text": [
      "Prediction\n",
      "Prediction\n",
      "Prediction\n",
      "Prediction\n"
     ]
    },
    {
     "name": "stderr",
     "output_type": "stream",
     "text": [
      " 19%|█▉        | 4/21 [00:00<00:00, 34.50it/s]"
     ]
    },
    {
     "name": "stdout",
     "output_type": "stream",
     "text": [
      "Prediction\n",
      "Prediction\n",
      "Prediction\n",
      "Prediction\n"
     ]
    },
    {
     "name": "stderr",
     "output_type": "stream",
     "text": [
      " 38%|███▊      | 8/21 [00:00<00:00, 26.62it/s]"
     ]
    },
    {
     "name": "stdout",
     "output_type": "stream",
     "text": [
      "Prediction\n",
      "Prediction\n"
     ]
    },
    {
     "name": "stderr",
     "output_type": "stream",
     "text": [
      " 67%|██████▋   | 14/21 [00:00<00:00, 23.26it/s]"
     ]
    },
    {
     "name": "stdout",
     "output_type": "stream",
     "text": [
      "Prediction\n",
      "Prediction\n",
      "Prediction\n",
      "Prediction\n",
      "Prediction\n",
      "Prediction\n",
      "Prediction\n",
      "Prediction\n"
     ]
    },
    {
     "name": "stderr",
     "output_type": "stream",
     "text": [
      "100%|██████████| 21/21 [00:00<00:00, 24.53it/s]"
     ]
    },
    {
     "name": "stdout",
     "output_type": "stream",
     "text": [
      "Prediction\n",
      "Prediction\n",
      "0.927844762802124\n",
      "Interpolation finished !\n",
      "Conversion done !\n"
     ]
    },
    {
     "name": "stderr",
     "output_type": "stream",
     "text": [
      "\n"
     ]
    },
    {
     "name": "stdout",
     "output_type": "stream",
     "text": [
      "Conversion done !\n",
      "Conversion done !\n",
      "Saved !\n",
      "Number of data for theodolites: [8368 7986 7909]\n",
      "Bad measures: 692\n",
      "7462 7089 7004\n"
     ]
    },
    {
     "name": "stderr",
     "output_type": "stream",
     "text": [
      " 14%|█▎        | 6/44 [00:00<00:01, 27.94it/s]"
     ]
    },
    {
     "name": "stdout",
     "output_type": "stream",
     "text": [
      "Prediction\n",
      "Prediction\n",
      "Prediction\n",
      "Prediction\n",
      "Prediction\n"
     ]
    },
    {
     "name": "stderr",
     "output_type": "stream",
     "text": [
      " 30%|██▉       | 13/44 [00:00<00:00, 31.04it/s]"
     ]
    },
    {
     "name": "stdout",
     "output_type": "stream",
     "text": [
      "Prediction\n",
      "Prediction\n",
      "Prediction\n",
      "Prediction\n",
      "Prediction\n"
     ]
    },
    {
     "name": "stderr",
     "output_type": "stream",
     "text": [
      " 39%|███▊      | 17/44 [00:00<00:00, 32.43it/s]"
     ]
    },
    {
     "name": "stdout",
     "output_type": "stream",
     "text": [
      "Prediction\n",
      "Prediction\n",
      "Prediction\n",
      "Prediction\n",
      "Prediction\n",
      "Prediction\n"
     ]
    },
    {
     "name": "stderr",
     "output_type": "stream",
     "text": [
      " 55%|█████▍    | 24/44 [00:00<00:00, 22.89it/s]"
     ]
    },
    {
     "name": "stdout",
     "output_type": "stream",
     "text": [
      "Prediction\n",
      "Prediction\n",
      "Prediction\n",
      "Prediction\n",
      "Prediction\n"
     ]
    },
    {
     "name": "stderr",
     "output_type": "stream",
     "text": [
      " 68%|██████▊   | 30/44 [00:01<00:00, 21.70it/s]"
     ]
    },
    {
     "name": "stdout",
     "output_type": "stream",
     "text": [
      "Prediction\n",
      "Prediction\n",
      "Prediction\n",
      "Prediction\n",
      "Prediction\n"
     ]
    },
    {
     "name": "stderr",
     "output_type": "stream",
     "text": [
      " 86%|████████▋ | 38/44 [00:01<00:00, 28.50it/s]"
     ]
    },
    {
     "name": "stdout",
     "output_type": "stream",
     "text": [
      "Prediction\n",
      "Prediction\n",
      "Prediction\n",
      "Prediction\n",
      "Prediction\n",
      "Prediction\n",
      "Prediction\n",
      "Prediction\n"
     ]
    },
    {
     "name": "stderr",
     "output_type": "stream",
     "text": [
      " 95%|█████████▌| 42/44 [00:01<00:00, 24.85it/s]"
     ]
    },
    {
     "name": "stdout",
     "output_type": "stream",
     "text": [
      "Prediction\n",
      "Prediction\n",
      "Prediction\n",
      "Prediction\n"
     ]
    },
    {
     "name": "stderr",
     "output_type": "stream",
     "text": [
      "100%|██████████| 44/44 [00:01<00:00, 25.95it/s]\n"
     ]
    },
    {
     "name": "stdout",
     "output_type": "stream",
     "text": [
      "Prediction\n",
      "Prediction\n",
      "2.0102055072784424\n",
      "Interpolation finished !\n",
      "Conversion done !\n",
      "Conversion done !\n",
      "Conversion done !\n",
      "Saved !\n",
      "Number of data for theodolites: [2321 2283 2246]\n",
      "Bad measures: 785\n",
      "2049 2033 2020\n"
     ]
    },
    {
     "name": "stderr",
     "output_type": "stream",
     "text": [
      " 50%|█████     | 9/18 [00:00<00:00, 38.18it/s]"
     ]
    },
    {
     "name": "stdout",
     "output_type": "stream",
     "text": [
      "Prediction\n",
      "Prediction\n",
      "Prediction\n",
      "Prediction\n",
      "Prediction\n",
      "Prediction\n",
      "Prediction\n",
      "Prediction\n",
      "Prediction\n"
     ]
    },
    {
     "name": "stderr",
     "output_type": "stream",
     "text": [
      "100%|██████████| 18/18 [00:00<00:00, 41.73it/s]\n"
     ]
    },
    {
     "name": "stdout",
     "output_type": "stream",
     "text": [
      "Prediction\n",
      "Prediction\n",
      "Prediction\n",
      "Prediction\n",
      "Prediction\n",
      "Prediction\n",
      "Prediction\n",
      "Prediction\n",
      "Prediction\n",
      "0.4716808795928955\n",
      "Interpolation finished !\n",
      "Conversion done !\n",
      "Conversion done !\n",
      "Conversion done !\n",
      "Saved !\n",
      "Number of data for theodolites: [1936 2134 2304]\n",
      "Bad measures: 351\n",
      "1782 1973 2126\n"
     ]
    },
    {
     "name": "stderr",
     "output_type": "stream",
     "text": [
      "  0%|          | 0/11 [00:00<?, ?it/s]"
     ]
    },
    {
     "name": "stdout",
     "output_type": "stream",
     "text": [
      "Prediction\n",
      "Prediction\n",
      "Prediction\n"
     ]
    },
    {
     "name": "stderr",
     "output_type": "stream",
     "text": [
      " 36%|███▋      | 4/11 [00:00<00:00, 21.69it/s]"
     ]
    },
    {
     "name": "stdout",
     "output_type": "stream",
     "text": [
      "Prediction\n"
     ]
    },
    {
     "name": "stderr",
     "output_type": "stream",
     "text": [
      " 64%|██████▎   | 7/11 [00:00<00:00, 24.69it/s]"
     ]
    },
    {
     "name": "stdout",
     "output_type": "stream",
     "text": [
      "Prediction\n",
      "Prediction\n",
      "Prediction\n",
      "Prediction\n",
      "Prediction\n"
     ]
    },
    {
     "name": "stderr",
     "output_type": "stream",
     "text": [
      "100%|██████████| 11/11 [00:00<00:00, 23.63it/s]"
     ]
    },
    {
     "name": "stdout",
     "output_type": "stream",
     "text": [
      "Prediction\n",
      "0.4920666217803955\n",
      "Interpolation finished !\n",
      "Conversion done !\n"
     ]
    },
    {
     "name": "stderr",
     "output_type": "stream",
     "text": [
      "\n"
     ]
    },
    {
     "name": "stdout",
     "output_type": "stream",
     "text": [
      "Conversion done !\n",
      "Conversion done !\n",
      "Saved !\n",
      "Number of data for theodolites: [2809 2565 2199]\n",
      "Bad measures: 1266\n",
      "1802 1619 1286\n"
     ]
    },
    {
     "name": "stderr",
     "output_type": "stream",
     "text": [
      " 21%|██▏       | 6/28 [00:00<00:00, 54.53it/s]"
     ]
    },
    {
     "name": "stdout",
     "output_type": "stream",
     "text": [
      "Prediction\n",
      "Prediction\n",
      "Prediction\n",
      "Prediction\n",
      "Prediction\n",
      "Prediction\n",
      "Prediction\n",
      "Prediction\n",
      "Prediction\n",
      "Prediction\n",
      "Prediction\n",
      "Prediction\n",
      "Prediction\n",
      "Prediction\n",
      "Prediction\n",
      "Prediction\n",
      "Prediction\n",
      "Prediction\n"
     ]
    },
    {
     "name": "stderr",
     "output_type": "stream",
     "text": [
      "100%|██████████| 28/28 [00:00<00:00, 122.57it/s]"
     ]
    },
    {
     "name": "stdout",
     "output_type": "stream",
     "text": [
      "Prediction\n",
      "Prediction\n",
      "Prediction\n",
      "Prediction\n",
      "Prediction\n",
      "Prediction\n",
      "Prediction\n",
      "0.27598047256469727\n",
      "Interpolation finished !\n"
     ]
    },
    {
     "name": "stderr",
     "output_type": "stream",
     "text": [
      "\n"
     ]
    },
    {
     "name": "stdout",
     "output_type": "stream",
     "text": [
      "Conversion done !\n",
      "Conversion done !\n",
      "Conversion done !\n",
      "Saved !\n",
      "Number of data for theodolites: [3144 2757 3053]\n",
      "Bad measures: 517\n",
      "2078 1827 2116\n"
     ]
    },
    {
     "name": "stderr",
     "output_type": "stream",
     "text": [
      " 32%|███▏      | 10/31 [00:00<00:00, 97.26it/s]"
     ]
    },
    {
     "name": "stdout",
     "output_type": "stream",
     "text": [
      "Prediction\n",
      "Prediction\n",
      "Prediction\n",
      "Prediction\n",
      "Prediction\n",
      "Prediction\n",
      "Prediction\n",
      "Prediction\n",
      "Prediction\n",
      "Prediction\n",
      "Prediction\n",
      "Prediction\n"
     ]
    },
    {
     "name": "stderr",
     "output_type": "stream",
     "text": [
      " 68%|██████▊   | 21/31 [00:00<00:00, 95.50it/s]"
     ]
    },
    {
     "name": "stdout",
     "output_type": "stream",
     "text": [
      "Prediction\n",
      "Prediction\n",
      "Prediction\n",
      "Prediction\n",
      "Prediction\n",
      "Prediction\n",
      "Prediction\n",
      "Prediction\n"
     ]
    },
    {
     "name": "stderr",
     "output_type": "stream",
     "text": [
      "100%|██████████| 31/31 [00:00<00:00, 109.68it/s]\n"
     ]
    },
    {
     "name": "stdout",
     "output_type": "stream",
     "text": [
      "Prediction\n",
      "Prediction\n",
      "Prediction\n",
      "Prediction\n",
      "Prediction\n",
      "Prediction\n",
      "Prediction\n",
      "Prediction\n",
      "Prediction\n",
      "0.3415954113006592\n",
      "Interpolation finished !\n",
      "Conversion done !\n",
      "Conversion done !\n",
      "Conversion done !\n",
      "Saved !\n",
      "Number of data for theodolites: [3529 3342 3320]\n",
      "Bad measures: 777\n",
      "2861 2771 2704\n"
     ]
    },
    {
     "name": "stderr",
     "output_type": "stream",
     "text": [
      "  0%|          | 0/36 [00:00<?, ?it/s]"
     ]
    },
    {
     "name": "stdout",
     "output_type": "stream",
     "text": [
      "Prediction\n",
      "Prediction\n",
      "Prediction\n",
      "Prediction\n",
      "Prediction\n",
      "Prediction\n",
      "Prediction\n",
      "Prediction\n",
      "Prediction\n",
      "Prediction\n"
     ]
    },
    {
     "name": "stderr",
     "output_type": "stream",
     "text": [
      " 33%|███▎      | 12/36 [00:00<00:00, 104.20it/s]"
     ]
    },
    {
     "name": "stdout",
     "output_type": "stream",
     "text": [
      "Prediction\n",
      "Prediction\n",
      "Prediction\n"
     ]
    },
    {
     "name": "stderr",
     "output_type": "stream",
     "text": [
      " 64%|██████▍   | 23/36 [00:00<00:00, 50.98it/s] "
     ]
    },
    {
     "name": "stdout",
     "output_type": "stream",
     "text": [
      "Prediction\n",
      "Prediction\n",
      "Prediction\n",
      "Prediction\n",
      "Prediction\n",
      "Prediction\n"
     ]
    },
    {
     "name": "stderr",
     "output_type": "stream",
     "text": [
      "100%|██████████| 36/36 [00:00<00:00, 66.64it/s]"
     ]
    },
    {
     "name": "stdout",
     "output_type": "stream",
     "text": [
      "Prediction\n",
      "Prediction\n",
      "Prediction\n",
      "Prediction\n",
      "Prediction\n",
      "Prediction\n",
      "Prediction\n",
      "Prediction\n",
      "Prediction\n",
      "Prediction\n",
      "Prediction\n",
      "Prediction\n",
      "Prediction\n",
      "0.6384024620056152\n",
      "Interpolation finished !\n",
      "Conversion done !\n",
      "Conversion done !\n",
      "Conversion done !\n",
      "Saved !\n"
     ]
    },
    {
     "name": "stderr",
     "output_type": "stream",
     "text": [
      "\n"
     ]
    }
   ],
   "source": [
    "theodo_u = importlib.reload(theodo_u)\n",
    "theodo_f = importlib.reload(theodo_f)\n",
    "prediction_u = importlib.reload(prediction_u)\n",
    "from pathlib import Path\n",
    "\n",
    "for param in parameters:\n",
    "    print(param)\n",
    "\n",
    "    if(param[0]==0):\n",
    "        filtering = False\n",
    "    if(param[0]==1):\n",
    "        filtering = True\n",
    "    thresold_d = param[1]                # tau_r [m/s]\n",
    "    thresold_a = param[2]                # tau_a [deg/s]\n",
    "    thresold_e = param[3]                # tau_e [deg/s]\n",
    "    limit_time_interval = param[4]       # tau_s [s]\n",
    "\n",
    "    B.epsilon = 1e-8\n",
    "    Mode = \"L\"       # Interpolation choice: 1. L -> Linear interpolation, 2. SGP -> Gaussian Process with Stheno library\n",
    "    limit_search = limit_time_interval\n",
    "    size_interval = param[5]         # tau_l [s]\n",
    "    delta_t = param[6]               # Value to remove points near edge of time intervals [s]\n",
    "    save = True\n",
    "\n",
    "    # GP parameters\n",
    "    verbose=False\n",
    "    Number_restart = 100        # Number of restart for the GP\n",
    "    noise_GP = 0                # Noise of GP\n",
    "    variance_GP = 1             # Variance of GP\n",
    "    lengthscale_GP = 1          # Lengthscale of GP\n",
    "\n",
    "    save_index_1 = []\n",
    "    save_index_2 = []\n",
    "    save_index_3 = []\n",
    "\n",
    "    for fname, opath in zip(file,output): \n",
    "        if(not filtering):\n",
    "            path = opath + \"raw_prediction/\"\n",
    "        else:\n",
    "            path = opath + \"filtered_prediction/\"\n",
    "\n",
    "        if(filtering):\n",
    "            t1, t2, t3, tp1, tp2, tp3, d1, d2, d3, a1, a2, a3, e1, e2, e3 = theodo_u.read_rosbag_theodolite_without_tf_raw_data_pre_filtered(fname, msg_node_dir=Path.cwd()/\"../msgs/theodolite_node_msgs\")\n",
    "            index_1_f = theodo_u.thresold_raw_data(t1, d1, a1, e1, thresold_d, thresold_a*3.1415926/180, thresold_e*3.1415926/180, limit_time_interval)\n",
    "            index_2_f = theodo_u.thresold_raw_data(t2, d2, a2, e2, thresold_d, thresold_a*3.1415926/180, thresold_e*3.1415926/180, limit_time_interval)\n",
    "            index_3_f = theodo_u.thresold_raw_data(t3, d3, a3, e3, thresold_d, thresold_a*3.1415926/180, thresold_e*3.1415926/180, limit_time_interval)\n",
    "            t1 = t1[index_1_f]\n",
    "            t2 = t2[index_2_f]\n",
    "            t3 = t3[index_3_f]\n",
    "            tp1 = tp1[index_1_f].T\n",
    "            tp2 = tp2[index_2_f].T\n",
    "            tp3 = tp3[index_3_f].T\n",
    "            print(len(t1),len(t2),len(t3))\n",
    "        else:\n",
    "            t1, t2, t3, tp1, tp2, tp3, d1, d2, d3, a1, a2, a3, e1, e2, e3 = theodo_u.read_rosbag_theodolite_without_tf_raw_data(fname, msg_node_dir=Path.cwd()/\"../msgs/theodolite_node_msgs\")\n",
    "            print(len(t1),len(t2),len(t3))\n",
    "\n",
    "        time_origin = np.min([t1[0],t2[0],t3[0]])\n",
    "\n",
    "        start_time = time.time()\n",
    "\n",
    "        t1 = t1 - np.ones_like(t1)*time_origin\n",
    "        t2 = t2 - np.ones_like(t2)*time_origin\n",
    "        t3 = t3 - np.ones_like(t3)*time_origin\n",
    "\n",
    "        list_interval, list_time = theodo_f.split_time_interval_all_data(t1, t2, t3, limit_time_interval)\n",
    "        list_trajectories_split = theodo_f.merge_interval(list_interval, list_time, t1, t2, t3, limit_search)\n",
    "\n",
    "        Prediction_1 = []\n",
    "        Prediction_2 = []\n",
    "        Prediction_3 = []\n",
    "        T_prediction = []\n",
    "\n",
    "        for i in tqdm(list_trajectories_split):\n",
    "\n",
    "            index_1 = np.array([i[0,0],i[1,0]])\n",
    "            index_2 = np.array([i[0,1],i[1,1]])\n",
    "            index_3 = np.array([i[0,2],i[1,2]])\n",
    "\n",
    "            save_index_1.append(index_1)\n",
    "            save_index_2.append(index_2)\n",
    "            save_index_3.append(index_3)\n",
    "\n",
    "            if(filtering==True):\n",
    "                index_1 = prediction_u.delta_t_function(index_1,t1,delta_t)\n",
    "                index_2 = prediction_u.delta_t_function(index_2,t2,delta_t)\n",
    "                index_3 = prediction_u.delta_t_function(index_3,t3,delta_t)\n",
    "\n",
    "            begin = np.max([t1[index_1[0]], t2[index_2[0]], t3[index_3[0]]])\n",
    "            end = np.min([t1[index_1[1]], t2[index_2[1]], t3[index_3[1]]])\n",
    "\n",
    "            if(abs(end-begin)>size_interval and begin<end):\n",
    "\n",
    "                rate = 5  #Hz\n",
    "                T_prediction_init = torch.from_numpy(np.arange(begin, end, 1/rate))\n",
    "\n",
    "                # Test done for Multiple Gaussian Process Output\n",
    "                if(Mode == \"MGPO\" or Mode == \"All\"):\n",
    "                    T_MGPO, S_MGPO = prediction_u.data_training_MGPO(t1, t2, t3, tp1, tp2, tp3, index_1, index_2, index_3)\n",
    "                    print(\"Training\")\n",
    "                    m = prediction_u.training_MGPO(Number_restart, verbose, T_MGPO, S_MGPO)\n",
    "                    print(\"Prediction\")\n",
    "                    for i in T_prediction_init.numpy():\n",
    "                        T_prediction.append(i+time_origin)\n",
    "                        P1_MGPO, P2_MGPO, P3_MGPO = prediction_u.unit_prediction_MGPO(i, m)\n",
    "                        Prediction_1.append(P1_MGPO)\n",
    "                        Prediction_2.append(P2_MGPO)\n",
    "                        Prediction_3.append(P3_MGPO)\n",
    "\n",
    "                # Gaussian process with GPy library\n",
    "                if(Mode == \"GP\" or Mode == \"All\"):\n",
    "                    T1, X1, Y1, Z1, T2, X2, Y2, Z2, T3, X3, Y3, Z3 = prediction_u.data_training_GP(t1, t2, t3, tp1, tp2, tp3, index_1, index_2, index_3)\n",
    "                    print(\"Training\")\n",
    "                    mx1, my1, mz1, mx2, my2, mz2, mx3, my3, mz3 = prediction_u.training_GP(Number_restart, verbose, T1, X1, Y1, Z1, T2, X2, Y2, Z2, T3, X3, Y3, Z3)\n",
    "                    print(\"Prediction\")\n",
    "                    for i in T_prediction_init.numpy():\n",
    "                        T_prediction.append(i+time_origin)\n",
    "                        P1_GP, P2_GP, P3_GP = prediction_u.unit_prediction_GP(i, mx1, my1, mz1, mx2, my2, mz2, mx3, my3, mz3)\n",
    "                        Prediction_1.append(P1_GP)\n",
    "                        Prediction_2.append(P2_GP)\n",
    "                        Prediction_3.append(P3_GP)\n",
    "\n",
    "                # Linear interpolation\n",
    "                if(Mode == \"L\" or Mode == \"All\"):\n",
    "                    T1, X1, Y1, Z1, T2, X2, Y2, Z2, T3, X3, Y3, Z3 = prediction_u.data_training_L(t1, t2, t3, tp1, tp2, tp3, index_1, index_2, index_3)\n",
    "                    print(\"Prediction\")\n",
    "                    mx1, my1, mz1, mx2, my2, mz2, mx3, my3, mz3 = prediction_u.linear_interpolation(T1, X1, Y1, Z1, T2, X2, Y2, Z2,T3, X3, Y3, Z3)\n",
    "\n",
    "                    for i in T_prediction_init.numpy():\n",
    "                        T_prediction.append(i+time_origin)\n",
    "                        P1_GP, P2_GP, P3_GP = prediction_u.linear_prediction(i, time_origin, mx1, my1, mz1, mx2, my2, mz2, mx3, my3, mz3)\n",
    "                        Prediction_1.append(P1_GP)\n",
    "                        Prediction_2.append(P2_GP)\n",
    "                        Prediction_3.append(P3_GP)\n",
    "\n",
    "                # Gaussian process with Stheno library\n",
    "                if(Mode==\"SGP\"):\n",
    "                    prediction_value = T_prediction_init.numpy()\n",
    "                    # Prepare data for training\n",
    "                    T1, X1, Y1, Z1, T2, X2, Y2, Z2, T3, X3, Y3, Z3 = prediction_u.data_training_GP_stheno(t1, t2, t3, tp1, tp2, tp3, index_1, index_2, index_3)\n",
    "                    # Training for each axis\n",
    "                    m_X1, v_X1 = prediction_u.GP_function_stheno(x=prediction_value, x_obs=T1, y_obs=X1, variance=variance_GP, lengthscale=lengthscale_GP, noise_init=noise_GP, optimization_nb=Number_restart)\n",
    "                    m_Y1, v_Y1 = prediction_u.GP_function_stheno(x=prediction_value, x_obs=T1, y_obs=Y1, variance=variance_GP, lengthscale=lengthscale_GP, noise_init=noise_GP, optimization_nb=Number_restart)\n",
    "                    m_Z1, v_Z1 = prediction_u.GP_function_stheno(x=prediction_value, x_obs=T1, y_obs=Z1, variance=variance_GP, lengthscale=lengthscale_GP, noise_init=noise_GP, optimization_nb=Number_restart)\n",
    "                    m_X2, v_X2 = prediction_u.GP_function_stheno(x=prediction_value, x_obs=T2, y_obs=X2, variance=variance_GP, lengthscale=lengthscale_GP, noise_init=noise_GP, optimization_nb=Number_restart)\n",
    "                    m_Y2, v_Y2 = prediction_u.GP_function_stheno(x=prediction_value, x_obs=T2, y_obs=Y2, variance=variance_GP, lengthscale=lengthscale_GP, noise_init=noise_GP, optimization_nb=Number_restart)\n",
    "                    m_Z2, v_Z2 = prediction_u.GP_function_stheno(x=prediction_value, x_obs=T2, y_obs=Z2, variance=variance_GP, lengthscale=lengthscale_GP, noise_init=noise_GP, optimization_nb=Number_restart)\n",
    "                    m_X3, v_X3 = prediction_u.GP_function_stheno(x=prediction_value, x_obs=T3, y_obs=X3, variance=variance_GP, lengthscale=lengthscale_GP, noise_init=noise_GP, optimization_nb=Number_restart)\n",
    "                    m_Y3, v_Y3 = prediction_u.GP_function_stheno(x=prediction_value, x_obs=T3, y_obs=Y3, variance=variance_GP, lengthscale=lengthscale_GP, noise_init=noise_GP, optimization_nb=Number_restart)\n",
    "                    m_Z3, v_Z3 = prediction_u.GP_function_stheno(x=prediction_value, x_obs=T3, y_obs=Z3, variance=variance_GP, lengthscale=lengthscale_GP, noise_init=noise_GP, optimization_nb=Number_restart)\n",
    "\n",
    "                    # Save prediction at time i\n",
    "                    for i,mx,my,mz,vx,vy,vz in zip(T_prediction_init.numpy(), m_X1, m_Y1, m_Z1, v_X1, v_Y1, v_Z1):\n",
    "                        Prediction_1.append(np.array([i+time_origin, mx ,my, mz, vx, vy, vz]))\n",
    "                        T_prediction.append(i+time_origin)\n",
    "                    for i,mx,my,mz,vx,vy,vz in zip(T_prediction_init.numpy(), m_X2, m_Y2, m_Z2, v_X2, v_Y2, v_Z2):\n",
    "                        Prediction_2.append(np.array([i+time_origin, mx ,my, mz, vx, vy, vz]))\n",
    "                    for i,mx,my,mz,vx,vy,vz in zip(T_prediction_init.numpy(), m_X3, m_Y3, m_Z3, v_X3, v_Y3, v_Z3):\n",
    "                        Prediction_3.append(np.array([i+time_origin, mx ,my, mz, vx, vy, vz]))\n",
    "\n",
    "        stop_time = time.time()\n",
    "        print(stop_time - start_time)\n",
    "\n",
    "        print(\"Interpolation finished !\")\n",
    "\n",
    "        if save:\n",
    "            if(Mode == \"MGPO\" or Mode == \"All\"):\n",
    "                if(filtering):\n",
    "                    trajectoire = \"f-\"+str(thresold_d)+\"-\"+str(thresold_a)+\"-\"+str(thresold_e)+\"-\"+str(limit_time_interval)+\"-\"+str(size_interval)+\"-\"+str(delta_t)+\"-MGPO-\"+str(Number_restart)\n",
    "                else:\n",
    "                    trajectoire = \"nf-\"+str(limit_time_interval)+\"-\"+str(size_interval)+\"-\"+str(delta_t)+\"-MGPO-\"+str(Number_restart)\n",
    "\n",
    "                theodo_u.Convert_data_prediction_to_csv(T_prediction, Prediction_1, path+trajectoire+ \"_1.csv\")\n",
    "                theodo_u.Convert_data_prediction_to_csv(T_prediction, Prediction_2, path+trajectoire+ \"_2.csv\")\n",
    "                theodo_u.Convert_data_prediction_to_csv(T_prediction, Prediction_3, path+trajectoire+ \"_3.csv\")\n",
    "            if(Mode == \"GP\" or Mode == \"All\"):\n",
    "                if(filtering):\n",
    "                    trajectoire = \"f-\"+str(thresold_d)+\"-\"+str(thresold_a)+\"-\"+str(thresold_e)+\"-\"+str(limit_time_interval)+\"-\"+str(size_interval)+\"-\"+str(delta_t)+\"-GP-\"+str(Number_restart)\n",
    "                else:\n",
    "                    trajectoire = \"nf-\"+str(limit_time_interval)+\"-\"+str(size_interval)+\"-\"+str(delta_t)+\"-GP-\"+str(Number_restart)\n",
    "\n",
    "                theodo_u.Convert_data_prediction_to_csv(T_prediction, Prediction_1, path+trajectoire+ \"_1.csv\")\n",
    "                theodo_u.Convert_data_prediction_to_csv(T_prediction, Prediction_2, path+trajectoire+ \"_2.csv\")\n",
    "                theodo_u.Convert_data_prediction_to_csv(T_prediction, Prediction_3, path+trajectoire+ \"_3.csv\")\n",
    "            if(Mode == \"SGP\" or Mode == \"All\"):\n",
    "                if(filtering):\n",
    "                    trajectoire = \"f-\"+str(thresold_d)+\"-\"+str(thresold_a)+\"-\"+str(thresold_e)+\"-\"+str(limit_time_interval)+\"-\"+str(size_interval)+\"-\"+str(delta_t)+\"-SGP-\"+str(Number_restart)\n",
    "                else:\n",
    "                    trajectoire = \"nf-\"+str(limit_time_interval)+\"-\"+str(size_interval)+\"-\"+str(delta_t)+\"-SGP-\"+str(Number_restart)\n",
    "\n",
    "                theodo_u.Convert_data_prediction_to_csv(T_prediction, Prediction_1, path+trajectoire+ \"_1.csv\")\n",
    "                theodo_u.Convert_data_prediction_to_csv(T_prediction, Prediction_2, path+trajectoire+ \"_2.csv\")\n",
    "                theodo_u.Convert_data_prediction_to_csv(T_prediction, Prediction_3, path+trajectoire+ \"_3.csv\")\n",
    "            if(Mode == \"L\" or Mode == \"All\"):\n",
    "                if(filtering):\n",
    "                    trajectoire = \"f-\"+str(thresold_d)+\"-\"+str(thresold_a)+\"-\"+str(thresold_e)+\"-\"+str(limit_time_interval)+\"-\"+str(size_interval)+\"-\"+str(delta_t)+\"-L\"\n",
    "                else:\n",
    "                    trajectoire = \"nf-\"+str(limit_time_interval)+\"-\"+str(size_interval)+\"-\"+str(delta_t)+\"-L\"\n",
    "\n",
    "                if save:\n",
    "                    theodo_u.Convert_raw_data_point_to_csv(T_prediction, Prediction_1, path+trajectoire+ \"_1.csv\")\n",
    "                    theodo_u.Convert_raw_data_point_to_csv(T_prediction, Prediction_2, path+trajectoire+ \"_2.csv\")\n",
    "                    theodo_u.Convert_raw_data_point_to_csv(T_prediction, Prediction_3, path+trajectoire+ \"_3.csv\")\n",
    "\n",
    "        print(\"Saved !\")"
   ]
  },
  {
   "attachments": {},
   "cell_type": "markdown",
   "metadata": {
    "collapsed": false
   },
   "source": [
    "# Display results"
   ],
   "id": "2d17e44a9ec000e9"
  },
  {
   "cell_type": "code",
   "execution_count": 25,
   "id": "4b510b74",
   "metadata": {
    "ExecuteTime": {
     "end_time": "2023-08-07T16:28:12.876278718Z",
     "start_time": "2023-08-07T16:28:04.440252114Z"
    }
   },
   "outputs": [
    {
     "name": "stdout",
     "output_type": "stream",
     "text": [
      "Number of data for theodolites: [4945 4681 4737]\n",
      "Bad measures: 558\n"
     ]
    }
   ],
   "source": [
    "theodo_u = importlib.reload(theodo_u)\n",
    "\n",
    "k = \"../data/20220525-1/\"\n",
    "path_type = 'filtered_prediction/'\n",
    "#path_file_type = 'nf-1-6-1-L_'\n",
    "path_file_type = 'f-2-1-1-3-2-0-L_'\n",
    "\n",
    "trimble_1 = theodo_u.read_prediction_data_resection_csv_file(k+path_type+path_file_type+\"1.csv\")\n",
    "t1, t2, t3, tp1, tp2, tp3, d1, d2, d3, a1, a2, a3, e1, e2, e3 = theodo_u.read_rosbag_theodolite_without_tf_raw_data(file[0], msg_node_dir=Path.cwd()/\"../msgs/theodolite_node_msgs\")"
   ]
  },
  {
   "cell_type": "code",
   "execution_count": 26,
   "id": "e909241e",
   "metadata": {
    "ExecuteTime": {
     "end_time": "2023-08-07T16:28:14.590541725Z",
     "start_time": "2023-08-07T16:28:14.412446751Z"
    }
   },
   "outputs": [
    {
     "data": {
      "text/plain": "<Figure size 640x480 with 1 Axes>",
      "image/png": "[encoded data removed]"
     },
     "metadata": {},
     "output_type": "display_data"
    }
   ],
   "source": [
    "%matplotlib inline\n",
    "\n",
    "save_index_1_arr = np.array(save_index_1)\n",
    "i = save_index_1_arr[0]\n",
    "\n",
    "plt.figure()\n",
    "\n",
    "plt.scatter(t1,tp1[0,:],s =1)                                               # Raw data from rosbag\n",
    "plt.scatter(t1[i[0]:i[1]],tp1[0,i[0]:i[1]], linewidth=5, color= 'black')      # Data given as input for the interpolation\n",
    "plt.scatter(trimble_1[:,0],trimble_1[:,1], linewidth=2, color= 'red')       # Interpolated points\n",
    "plt.xlabel(\"Time [s]\")\n",
    "plt.ylabel(\"Axis chosen [m]\")\n",
    "\n",
    "\n",
    "plt.show()"
   ]
  },
  {
   "cell_type": "code",
   "execution_count": null,
   "id": "3544ca35",
   "metadata": {},
   "outputs": [],
   "source": []
  }
 ],
 "metadata": {
  "kernelspec": {
   "display_name": "Python 3 (ipykernel)",
   "language": "python",
   "name": "python3"
  },
  "language_info": {
   "codemirror_mode": {
    "name": "ipython",
    "version": 3
   },
   "file_extension": ".py",
   "mimetype": "text/x-python",
   "name": "python",
   "nbconvert_exporter": "python",
   "pygments_lexer": "ipython3",
   "version": "3.10.8"
  }
 },
 "nbformat": 4,
 "nbformat_minor": 5
}
